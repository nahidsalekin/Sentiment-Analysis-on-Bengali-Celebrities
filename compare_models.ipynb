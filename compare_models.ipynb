{
 "cells": [
  {
   "cell_type": "code",
   "execution_count": 1,
   "metadata": {},
   "outputs": [
    {
     "name": "stdout",
     "output_type": "stream",
     "text": [
      "Using matplotlib backend: Qt5Agg\n"
     ]
    }
   ],
   "source": [
    "from sklearn.ensemble import RandomForestClassifier\n",
    "from sklearn.tree import DecisionTreeClassifier\n",
    "from sklearn.neighbors import KNeighborsClassifier\n",
    "from sklearn.neural_network import MLPClassifier\n",
    "from sklearn.naive_bayes import MultinomialNB\n",
    "from sklearn.svm import SVC\n",
    "from sklearn.model_selection import GridSearchCV\n",
    "from sklearn.model_selection import train_test_split,KFold,cross_val_score,StratifiedKFold\n",
    "import pandas as pd\n",
    "import matplotlib.pyplot as plt\n",
    "%matplotlib"
   ]
  },
  {
   "cell_type": "code",
   "execution_count": 2,
   "metadata": {},
   "outputs": [],
   "source": [
    "data = pd.read_excel(r\"C:\\Users\\Nahid\\Desktop\\sentiment\\dataset.xlsx\",encoding='utf-8')"
   ]
  },
  {
   "cell_type": "code",
   "execution_count": 3,
   "metadata": {},
   "outputs": [],
   "source": [
    "from sklearn.feature_extraction.text import TfidfVectorizer\n",
    "tf = TfidfVectorizer()\n",
    "x = tf.fit_transform(data['comment'])\n",
    "y = data.emotion"
   ]
  },
  {
   "cell_type": "code",
   "execution_count": 4,
   "metadata": {},
   "outputs": [
    {
     "name": "stdout",
     "output_type": "stream",
     "text": [
      "NN: 0.477619\n",
      "RF: 0.574405\n",
      "KNN: 0.548446\n",
      "DT: 0.485370\n",
      "NB: 0.537794\n",
      "SVM: 0.591278\n"
     ]
    },
    {
     "name": "stderr",
     "output_type": "stream",
     "text": [
      "C:\\Users\\Nahid\\anaconda3\\lib\\site-packages\\matplotlib\\colors.py:235: VisibleDeprecationWarning: Creating an ndarray from ragged nested sequences (which is a list-or-tuple of lists-or-tuples-or ndarrays with different lengths or shapes) is deprecated. If you meant to do this, you must specify 'dtype=object' when creating the ndarray\n",
      "  c = np.array(c)\n"
     ]
    }
   ],
   "source": [
    "seed = 50\n",
    "\n",
    "# preparing models\n",
    "models = []\n",
    "models.append(('NN', MLPClassifier(hidden_layer_sizes=(18,18,18), max_iter = 900, activation = 'relu')))\n",
    "models.append(('RF', RandomForestClassifier(n_estimators=80)))\n",
    "models.append(('KNN', GridSearchCV(KNeighborsClassifier(), { \"n_neighbors\" : [5, 7, 11, 13, 17] })))\n",
    "models.append(('DT', DecisionTreeClassifier()))\n",
    "models.append(('NB', MultinomialNB()))\n",
    "models.append(('SVM', SVC(kernel='rbf')))\n",
    "\n",
    "n = 50\n",
    "#cv = KFold(n_splits=n,shuffle=True)\n",
    "cv = StratifiedKFold(n_splits=n, shuffle=True)\n",
    "# evaluating each model\n",
    "results = []\n",
    "names = []\n",
    "scoring = 'accuracy'\n",
    "for name, model in models:\n",
    "     cv_results = cross_val_score(model, x, y, cv=cv, scoring=scoring)       \n",
    "     results.append(cv_results)\n",
    "     names.append(name)\n",
    "     msg = \"%s: %f\" % (name, cv_results.mean())\n",
    "     print(msg)\n",
    "\n",
    "# boxplot algorithm comparison\n",
    "\n",
    "#plt.style.use('ggplot')\n",
    "fig = plt.figure()\n",
    "fig.suptitle('Algorithm Comparison')\n",
    "ax = fig.add_subplot(111)\n",
    "plt.boxplot(results, patch_artist = True,notch=False)\n",
    "ax.set_xticklabels(names)\n",
    "plt.show() "
   ]
  }
 ],
 "metadata": {
  "kernelspec": {
   "display_name": "Python 3",
   "language": "python",
   "name": "python3"
  },
  "language_info": {
   "codemirror_mode": {
    "name": "ipython",
    "version": 3
   },
   "file_extension": ".py",
   "mimetype": "text/x-python",
   "name": "python",
   "nbconvert_exporter": "python",
   "pygments_lexer": "ipython3",
   "version": "3.7.6"
  }
 },
 "nbformat": 4,
 "nbformat_minor": 4
}
