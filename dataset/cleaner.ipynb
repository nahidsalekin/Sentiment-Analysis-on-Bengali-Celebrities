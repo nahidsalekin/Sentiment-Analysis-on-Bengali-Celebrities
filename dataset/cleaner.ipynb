{
 "cells": [
  {
   "cell_type": "code",
   "execution_count": null,
   "metadata": {},
   "outputs": [],
   "source": [
    "import pandas as pd\n",
    "import encodings"
   ]
  },
  {
   "cell_type": "code",
   "execution_count": null,
   "metadata": {},
   "outputs": [],
   "source": [
    "def read(filename):\n",
    "    path = r\"C:\\\\Users\\\\Nahid\\\\Desktop\\\\test\\\\dataset\\\\\"\n",
    "    path += filename\n",
    "    data = pd.read_excel(path,encoding='utf-8')\n",
    "    return data\n",
    "\n",
    "filename = 'mithila_raw.xlsx'\n",
    "data = read(filename)\n",
    "print(data['message'])\n",
    "print('total size: ',len(data))"
   ]
  },
  {
   "cell_type": "code",
   "execution_count": null,
   "metadata": {},
   "outputs": [],
   "source": [
    "def clean_doc(doc):\n",
    "    doc = doc.replace('?', ' ? ')\n",
    "    doc = doc.replace('।', ' । ')\n",
    "    doc = doc.replace(',', ' । ')\n",
    "    doc = doc.replace('-', ' । ')\n",
    "    doc = doc.replace('(', ' । ')\n",
    "    doc = doc.replace(')', ' । ')\n",
    "    doc = doc.replace('{', ' । ')\n",
    "    doc = doc.replace('}', ' । ')\n",
    "    doc = doc.replace('[', ' । ')\n",
    "    doc = doc.replace(']', ' । ')\n",
    "    doc = doc.replace('*', ' ')\n",
    "    doc = doc.replace('^', ' ')\n",
    "    doc = doc.replace('#', ' ')\n",
    "    doc = doc.replace('~', ' ')\n",
    "    doc = doc.replace('`', ' ')\n",
    "    doc = doc.replace('/', ' ')\n",
    "    doc = doc.replace('_', ' ')\n",
    "    doc = doc.replace('’', ' ')\n",
    "    doc = doc.replace('‘', ' ')\n",
    "    doc = doc.replace('.', ' । ')\n",
    "    \n",
    "    return doc"
   ]
  },
  {
   "cell_type": "code",
   "execution_count": null,
   "metadata": {},
   "outputs": [],
   "source": [
    "def remove_similar(list):\n",
    "    arr = []\n",
    "    for text in list:\n",
    "        subText = text[0:10]\n",
    "        if not any(subText in fullText for fullText in arr):\n",
    "            arr.append(text)\n",
    "                \n",
    "    return arr\n",
    "\n",
    "def clean_symbol(x):\n",
    "    x = \"\".join(i for i in x if 2432 <= ord(i) <= 2559 or ord(i)== 32) # -> bangla fonts\n",
    "    x = \" \".join(x.split())\n",
    "    return x\n",
    "\n",
    "\n",
    "def validity(x):\n",
    "    for i in x:\n",
    "        if ord(i) in range(65,122+1):\n",
    "            return False\n",
    "    return True"
   ]
  },
  {
   "cell_type": "code",
   "execution_count": null,
   "metadata": {
    "scrolled": false
   },
   "outputs": [],
   "source": [
    "data = data[data.message.str.count(' ') > 2] #remove data which has lower words\n",
    "data = data[data.message.str.count(' ') < 15] #remove data which has higher words\n",
    "data = clean_doc(data)\n",
    "\n",
    "\n",
    "data['message'] = [clean_symbol(x) for x in data['message']]    \n",
    "\n",
    "temp = [x for x in data['message'] if validity(x)==True and len(x)>=26]    \n",
    "print(len(temp))  \n",
    "\n",
    "temp = list(dict.fromkeys(temp))\n",
    "temp = list(filter(None, temp))\n",
    "temp = remove_similar(temp)\n",
    "\n",
    "pd.DataFrame(temp).to_excel('mithila.xlsx', header=False,index=False)\n",
    "print(temp)\n",
    "print('total size: ',len(temp))"
   ]
  },
  {
   "cell_type": "code",
   "execution_count": null,
   "metadata": {},
   "outputs": [],
   "source": [
    "#merge all into a single file\n",
    "df=pd.DataFrame()\n",
    "\n",
    "\n",
    "d1 = read('ashraful.xlsx')\n",
    "d2 = read('chanchal.xlsx')\n",
    "d3 = read('mustafiz.xlsx')\n",
    "d4 = read('rubel.xlsx')\n",
    "d5 = read('papon.xlsx')\n",
    "\n",
    "\n",
    "frames = [d1,d2,d3,d4,d5]\n",
    "\n",
    "result = pd.concat(frames,ignore_index=False)\n",
    "print(len(result))\n",
    "new = remove_similar(result['comment'])\n",
    "print(len(new))\n",
    "pd.DataFrame(new).to_excel('dataset-2.xlsx', header=False,index=False)"
   ]
  }
 ],
 "metadata": {
  "kernelspec": {
   "display_name": "Python 3",
   "language": "python",
   "name": "python3"
  },
  "language_info": {
   "codemirror_mode": {
    "name": "ipython",
    "version": 3
   },
   "file_extension": ".py",
   "mimetype": "text/x-python",
   "name": "python",
   "nbconvert_exporter": "python",
   "pygments_lexer": "ipython3",
   "version": "3.7.6"
  }
 },
 "nbformat": 4,
 "nbformat_minor": 2
}
