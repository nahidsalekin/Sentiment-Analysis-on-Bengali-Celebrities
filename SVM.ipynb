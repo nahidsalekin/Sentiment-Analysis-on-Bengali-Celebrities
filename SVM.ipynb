{
 "cells": [
  {
   "cell_type": "code",
   "execution_count": 1,
   "metadata": {},
   "outputs": [],
   "source": [
    "import pandas as pd\n",
    "from sklearn import svm\n",
    "from sklearn.model_selection import train_test_split\n",
    "import encodings\n",
    "%matplotlib inline"
   ]
  },
  {
   "cell_type": "code",
   "execution_count": 2,
   "metadata": {},
   "outputs": [],
   "source": [
    "data = pd.read_excel(r\"C:\\Users\\Nahid\\Desktop\\sentiment\\dataset.xlsx\",encoding='utf-8')"
   ]
  },
  {
   "cell_type": "code",
   "execution_count": 3,
   "metadata": {},
   "outputs": [
    {
     "data": {
      "text/html": [
       "<div>\n",
       "<style scoped>\n",
       "    .dataframe tbody tr th:only-of-type {\n",
       "        vertical-align: middle;\n",
       "    }\n",
       "\n",
       "    .dataframe tbody tr th {\n",
       "        vertical-align: top;\n",
       "    }\n",
       "\n",
       "    .dataframe thead th {\n",
       "        text-align: right;\n",
       "    }\n",
       "</style>\n",
       "<table border=\"1\" class=\"dataframe\">\n",
       "  <thead>\n",
       "    <tr style=\"text-align: right;\">\n",
       "      <th></th>\n",
       "      <th>comment</th>\n",
       "      <th>emotion</th>\n",
       "    </tr>\n",
       "  </thead>\n",
       "  <tbody>\n",
       "    <tr>\n",
       "      <th>0</th>\n",
       "      <td>ছাপ্পান্ন হাজার বর্গমাইল রাজ্যজুড়ে আজ কেবল বি...</td>\n",
       "      <td>sad</td>\n",
       "    </tr>\n",
       "    <tr>\n",
       "      <th>1</th>\n",
       "      <td>সাকিব ভাই আপনি একজন জ্ঞানী মানুষ আপনার কাছে এম...</td>\n",
       "      <td>angry</td>\n",
       "    </tr>\n",
       "    <tr>\n",
       "      <th>2</th>\n",
       "      <td>হাজার বছরের শেষ্ট বাঙালী জাতীর জনক ব্ঙ্গবন্ধু ...</td>\n",
       "      <td>happy</td>\n",
       "    </tr>\n",
       "    <tr>\n",
       "      <th>3</th>\n",
       "      <td>স্বাধীন বাংলাদেশের স্বপতিজাতির জনক বঙ্গবন্ধু শ...</td>\n",
       "      <td>sad</td>\n",
       "    </tr>\n",
       "    <tr>\n",
       "      <th>4</th>\n",
       "      <td>ঝরেনি সেদিন কৃষ্ণচুড়াঝরেছে পিতার রক্তআগষ্ট শো...</td>\n",
       "      <td>sad</td>\n",
       "    </tr>\n",
       "  </tbody>\n",
       "</table>\n",
       "</div>"
      ],
      "text/plain": [
       "                                             comment emotion\n",
       "0  ছাপ্পান্ন হাজার বর্গমাইল রাজ্যজুড়ে আজ কেবল বি...     sad\n",
       "1  সাকিব ভাই আপনি একজন জ্ঞানী মানুষ আপনার কাছে এম...   angry\n",
       "2  হাজার বছরের শেষ্ট বাঙালী জাতীর জনক ব্ঙ্গবন্ধু ...   happy\n",
       "3  স্বাধীন বাংলাদেশের স্বপতিজাতির জনক বঙ্গবন্ধু শ...     sad\n",
       "4  ঝরেনি সেদিন কৃষ্ণচুড়াঝরেছে পিতার রক্তআগষ্ট শো...     sad"
      ]
     },
     "execution_count": 3,
     "metadata": {},
     "output_type": "execute_result"
    }
   ],
   "source": [
    "data.head()"
   ]
  },
  {
   "cell_type": "code",
   "execution_count": 4,
   "metadata": {},
   "outputs": [
    {
     "data": {
      "text/plain": [
       "happy        1005\n",
       "excited       638\n",
       "sad           467\n",
       "angry         399\n",
       "abusive       195\n",
       "surprise       84\n",
       "religious      55\n",
       "Name: emotion, dtype: int64"
      ]
     },
     "execution_count": 4,
     "metadata": {},
     "output_type": "execute_result"
    }
   ],
   "source": [
    "data.emotion.value_counts()"
   ]
  },
  {
   "cell_type": "code",
   "execution_count": 5,
   "metadata": {},
   "outputs": [],
   "source": [
    "sv = svm.SVC(kernel='rbf')"
   ]
  },
  {
   "cell_type": "code",
   "execution_count": 6,
   "metadata": {},
   "outputs": [
    {
     "name": "stdout",
     "output_type": "stream",
     "text": [
      "(2274, 1424) (2274,)\n",
      "(569, 1424) (569,)\n"
     ]
    }
   ],
   "source": [
    "from sklearn.feature_extraction.text import TfidfVectorizer\n",
    "tf = TfidfVectorizer()\n",
    "x = tf.fit_transform(data['comment'])\n",
    "y = data['emotion']\n",
    "x_train, x_test, y_train, y_test = train_test_split(x, y, test_size=0.2,random_state=1)\n",
    "print(x_train.shape,y_train.shape)\n",
    "print(x_test.shape,y_test.shape)"
   ]
  },
  {
   "cell_type": "code",
   "execution_count": 7,
   "metadata": {},
   "outputs": [],
   "source": [
    "sv = sv.fit(x_train, y_train)"
   ]
  },
  {
   "cell_type": "code",
   "execution_count": 8,
   "metadata": {},
   "outputs": [
    {
     "name": "stdout",
     "output_type": "stream",
     "text": [
      "['angry']\n"
     ]
    }
   ],
   "source": [
    "test = \"এমন কাজ কিভাবে করলেন\"\n",
    "test_vector = tf.transform([test]) # vectorizing\n",
    "print(sv.predict(test_vector))"
   ]
  },
  {
   "cell_type": "code",
   "execution_count": 9,
   "metadata": {},
   "outputs": [],
   "source": [
    "y_pred = sv.predict(x_test)"
   ]
  },
  {
   "cell_type": "code",
   "execution_count": 10,
   "metadata": {},
   "outputs": [
    {
     "name": "stdout",
     "output_type": "stream",
     "text": [
      "Accuracy using SVM:  61.5 %\n"
     ]
    }
   ],
   "source": [
    "from sklearn.metrics import accuracy_score\n",
    "score = accuracy_score(y_test, y_pred) * 100\n",
    "print(\"Accuracy using SVM: \", round(score, 1), \"%\" )"
   ]
  },
  {
   "cell_type": "markdown",
   "metadata": {},
   "source": [
    "#### K-Fold Cross Validation:"
   ]
  },
  {
   "cell_type": "code",
   "execution_count": 11,
   "metadata": {},
   "outputs": [
    {
     "name": "stdout",
     "output_type": "stream",
     "text": [
      "Accuracy with K-Fold: 57.97%\n"
     ]
    }
   ],
   "source": [
    "#cross validation\n",
    "from sklearn.model_selection import cross_val_score\n",
    "import numpy as np\n",
    "cv_score = cross_val_score(svm.SVC(kernel='rbf'), x, y, cv=50)\n",
    "print(\"Accuracy with K-Fold: %.2f%%\" % (cv_score.mean()*100.0))"
   ]
  },
  {
   "cell_type": "markdown",
   "metadata": {},
   "source": [
    "#### StratifiedKFold Cross Validation:"
   ]
  },
  {
   "cell_type": "code",
   "execution_count": 12,
   "metadata": {},
   "outputs": [
    {
     "name": "stdout",
     "output_type": "stream",
     "text": [
      "Accuracy with Stratified: 58.81%\n"
     ]
    }
   ],
   "source": [
    "from sklearn.model_selection import StratifiedKFold,cross_val_score\n",
    "skfold = StratifiedKFold(n_splits=50, shuffle=True)\n",
    "model_skfold = svm.SVC(kernel='rbf')\n",
    "results_skfold = cross_val_score(model_skfold, x, y, cv=skfold)\n",
    "print(\"Accuracy with Stratified: %.2f%%\" % (results_skfold.mean()*100.0))      "
   ]
  },
  {
   "cell_type": "code",
   "execution_count": 13,
   "metadata": {},
   "outputs": [],
   "source": [
    "# from mlxtend.plotting import plot_decision_regions\n",
    "# import matplotlib.pyplot as plt\n",
    "# from sklearn import datasets\n",
    "# from sklearn.svm import SVC\n",
    "\n",
    "# # Loading some example data\n",
    "# X = x\n",
    "# y= t\n",
    "# #y = y.reshape(-1,1)\n",
    "# # Training a classifier\n",
    "# svm = SVC(C=0.5, kernel='linear')\n",
    "# svm.fit(X, y)\n",
    "\n",
    "\n",
    "# # Plotting decision regions\n",
    "# plot_decision_regions(X, y, clf=svm, legend=2)\n",
    "\n",
    "# # Adding axes annotations\n",
    "# plt.xlabel('sepal length [cm]')\n",
    "# plt.ylabel('petal length [cm]')\n",
    "# plt.title('SVM on Iris')\n",
    "# plt.show()"
   ]
  }
 ],
 "metadata": {
  "kernelspec": {
   "display_name": "Python 3",
   "language": "python",
   "name": "python3"
  },
  "language_info": {
   "codemirror_mode": {
    "name": "ipython",
    "version": 3
   },
   "file_extension": ".py",
   "mimetype": "text/x-python",
   "name": "python",
   "nbconvert_exporter": "python",
   "pygments_lexer": "ipython3",
   "version": "3.7.6"
  }
 },
 "nbformat": 4,
 "nbformat_minor": 2
}
